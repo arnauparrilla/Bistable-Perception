{
 "cells": [
  {
   "cell_type": "code",
   "execution_count": 99,
   "metadata": {},
   "outputs": [],
   "source": [
    "import numpy as np\n",
    "import math"
   ]
  },
  {
   "cell_type": "code",
   "execution_count": 100,
   "metadata": {},
   "outputs": [],
   "source": [
    "theta = np.array([[0 ,1 ,1 ,0 ,1 ,0 ,0 ,0],[1, 0, 0, 1, 0, 1, 0, 0],[1, 0, 0, 1, 0, 0, 1, 0],[0, 1, 1, 0, 0, 0, 0, 1],[1, 0, 0, 0, 0, 1, 1, 0],\n",
    "                 [0, 1, 0, 0, 1, 0, 0, 1],[0, 0, 1, 0, 1, 0, 0, 1],[0, 0, 0, 1, 0, 1, 1, 0]])"
   ]
  },
  {
   "cell_type": "code",
   "execution_count": 101,
   "metadata": {},
   "outputs": [],
   "source": [
    "def sum_ising_prob(state_vec,theta):\n",
    "    return 1/2*(np.matmul(state_vec,np.matmul(theta,state_vec)))"
   ]
  },
  {
   "cell_type": "code",
   "execution_count": 102,
   "metadata": {},
   "outputs": [],
   "source": [
    "def current_state(state_vec,theta):\n",
    "    #per afegir els 22 casos totals es molt facil/ sumar i veure si es positiva o negativa la suma\n",
    "    mu = abs(sum(state_vec))\n",
    "    k = sum_ising_prob(state_vec,theta)\n",
    "    if mu == 8:\n",
    "        return 0\n",
    "    elif mu == 6:\n",
    "        return 1\n",
    "    elif mu == 4:\n",
    "        if k == 4:\n",
    "            return 2\n",
    "        else:\n",
    "            distinc_vec = np.matmul(theta,state_vec)\n",
    "            if -1 in distinc_vec:\n",
    "                if np.count_nonzero(distinc_vec+3) != 6:\n",
    "                    return 3\n",
    "                return 4\n",
    "            else:\n",
    "                return 4\n",
    "    elif mu == 2:\n",
    "        if k == 2:\n",
    "            return 5\n",
    "        elif k == -2:\n",
    "            return 6\n",
    "        else:\n",
    "            return 7\n",
    "    else:\n",
    "        if k == 0:\n",
    "            distinc_vec = np.matmul(theta,state_vec)\n",
    "            if 3 in distinc_vec:\n",
    "                return 8\n",
    "            else:\n",
    "                return 9\n",
    "        elif k == 4:\n",
    "            return 10\n",
    "        elif k == -4:\n",
    "            distinc_vec = np.matmul(theta,state_vec)\n",
    "            if 3 in distinc_vec:\n",
    "                return 11\n",
    "            else:\n",
    "                return 12\n",
    "        else:\n",
    "            return 13\n",
    "            "
   ]
  },
  {
   "cell_type": "markdown",
   "metadata": {},
   "source": [
    "# Brute force probabilities"
   ]
  },
  {
   "cell_type": "code",
   "execution_count": 103,
   "metadata": {},
   "outputs": [],
   "source": [
    "def prob_brute_force(theta,J):\n",
    "    states = np.zeros(14)\n",
    "    for i in range(256):\n",
    "        vec = np.array([int(x) for x in list('{:08b}'.format(i))])\n",
    "        aux_vec = 1 - vec;\n",
    "        vec = vec*-1;\n",
    "        state_vec = vec + aux_vec;\n",
    "        #states[current_state(state_vec,theta)]+=1 #guardes quants cops entres a cada estat\n",
    "        k = sum_ising_prob(state_vec,theta)\n",
    "        states[current_state(state_vec,theta)]+= np.exp(k*J)\n",
    "        states/=sum(states)\n",
    "    return states"
   ]
  },
  {
   "cell_type": "code",
   "execution_count": 106,
   "metadata": {
    "scrolled": true
   },
   "outputs": [
    {
     "data": {
      "text/plain": [
       "array([9.16827304e-01, 7.97933378e-02, 3.29728970e-03, 5.18773731e-05,\n",
       "       2.46210952e-12, 3.01817045e-05, 1.75668205e-12, 2.96598080e-12,\n",
       "       4.92369609e-12, 5.73313204e-13, 9.86942027e-09, 4.09455267e-14,\n",
       "       9.94277917e-24, 2.86241121e-37])"
      ]
     },
     "execution_count": 106,
     "metadata": {},
     "output_type": "execute_result"
    }
   ],
   "source": [
    "prob_brute_force(theta,0.2)"
   ]
  },
  {
   "cell_type": "code",
   "execution_count": 247,
   "metadata": {},
   "outputs": [],
   "source": [
    "def gibbs_sampling():\n",
    "    T = np.array([[0,1,0,0,0,0,0,0,0,0,0,0,0,0],\n",
    "                  [1,0,1,1,1,0,0,0,0,0,0,0,0,0],\n",
    "                  [0,1,0,0,0,1,1,0,0,0,0,0,0,0],\n",
    "                  [0,1,0,0,0,1,1,1,0,0,0,0,0,0],\n",
    "                  [0,1,0,0,0,0,1,0,0,0,0,0,0,0],\n",
    "                  [0,0,1,1,0,0,0,0,1,1,1,1,0,0],\n",
    "                  [0,0,1,1,1,0,0,0,0,1,0,1,1,0],\n",
    "                  [0,0,0,1,0,0,0,0,1,0,0,1,0,1],\n",
    "                  [0,0,0,0,0,1,0,1,0,0,0,0,0,0],\n",
    "                  [0,0,0,0,0,1,1,0,0,0,0,0,0,0],\n",
    "                  [0,0,0,0,0,1,0,0,0,0,0,0,0,0],\n",
    "                  [0,0,0,0,0,1,1,0,0,0,0,0,0,0],\n",
    "                  [0,0,0,0,0,0,1,0,0,0,0,0,0,0],\n",
    "                  [0,0,0,0,0,0,0,1,0,0,0,0,0,0]])"
   ]
  },
  {
   "cell_type": "code",
   "execution_count": null,
   "metadata": {},
   "outputs": [],
   "source": [
    "#Tij = Cij/8 sigma( J (k(j) - k(i))"
   ]
  },
  {
   "cell_type": "code",
   "execution_count": 6,
   "metadata": {},
   "outputs": [
    {
     "data": {
      "text/plain": [
       "array([0., 0., 0., 1., 0., 0., 0., 0., 0., 0., 0., 0., 0., 0., 0., 0., 0.,\n",
       "       0., 0., 0., 0., 0.])"
      ]
     },
     "execution_count": 6,
     "metadata": {},
     "output_type": "execute_result"
    }
   ],
   "source": [
    "x = np.zeros(22)\n",
    "x[3] = 1\n",
    "x"
   ]
  },
  {
   "cell_type": "code",
   "execution_count": 8,
   "metadata": {},
   "outputs": [],
   "source": [
    "THETA = np.array([[0,1,0,0,0,0,0,0,0,0,0,0,0,0,0,0,0,0,0,0,0,0],\n",
    "                  [1,0,1,1,1,0,0,0,0,0,0,0,0,0,0,0,0,0,0,0,0,0],\n",
    "                  [0,1,0,0,0,1,1,0,0,0,0,0,0,0,0,0,0,0,0,0,0,0],\n",
    "                  [0,1,0,0,0,1,1,1,0,0,0,0,0,0,0,0,0,0,0,0,0,0],\n",
    "                  [0,1,0,0,0,0,1,0,0,0,0,0,0,0,0,0,0,0,0,0,0,0],\n",
    "                  [0,0,1,1,0,0,0,0,1,1,1,1,0,0,0,0,0,0,0,0,0,0],\n",
    "                  [0,0,1,1,1,0,0,0,0,1,0,1,1,0,0,0,0,0,0,0,0,0],\n",
    "                  [0,0,0,1,0,0,0,0,1,0,0,1,0,1,0,0,0,0,0,0,0,0],\n",
    "\n",
    "                  [0,0,0,0,0,1,0,1,0,0,0,0,0,0,1,0,1,0,0,0,0,0],\n",
    "                  [0,0,0,0,0,1,1,0,0,0,0,0,0,0,0,1,1,0,0,0,0,0],\n",
    "                  [0,0,0,0,0,1,0,0,0,0,0,0,0,0,0,0,1,0,0,0,0,0],\n",
    "                  [0,0,0,0,0,1,1,1,0,0,0,0,0,0,1,1,1,0,0,0,0,0],\n",
    "                  [0,0,0,0,0,0,1,0,0,0,0,0,0,0,0,1,0,0,0,0,0,0],\n",
    "                  [0,0,0,0,0,0,0,1,0,0,0,0,0,0,1,0,0,0,0,0,0,0],\n",
    "                  \n",
    "                  [0,0,0,0,0,0,0,0,1,0,0,1,0,1,0,0,0,0,1,0,0,0],\n",
    "                  [0,0,0,0,0,0,0,0,0,1,0,1,1,0,0,0,0,1,1,1,0,0],\n",
    "                  [0,0,0,0,0,0,0,0,1,1,1,1,0,0,0,0,0,0,1,1,0,0],\n",
    "                  \n",
    "                  [0,0,0,0,0,0,0,0,0,0,0,0,0,0,0,1,0,0,0,0,1,0],\n",
    "                  [0,0,0,0,0,0,0,0,0,0,0,0,0,0,1,1,1,0,0,0,1,0],\n",
    "                  [0,0,0,0,0,0,0,0,0,0,0,0,0,0,0,1,1,0,0,0,1,0],\n",
    "                  [0,0,0,0,0,0,0,0,0,0,0,0,0,0,0,0,0,1,1,1,0,1],\n",
    "                  [0,0,0,0,0,0,0,0,0,0,0,0,0,0,0,0,0,0,0,0,1,0],\n",
    "\n",
    "                 ])"
   ]
  },
  {
   "cell_type": "code",
   "execution_count": 21,
   "metadata": {},
   "outputs": [],
   "source": [
    "def k(i):\n",
    "    #where M is the weight mateix\n",
    "    x = np.zeros(22)\n",
    "    x[0] = 1\n",
    "    return np.matmul(M,x)\n",
    "    #return 1/2*(np.matmul(np.transpose(x),np.matmul(M,x)))"
   ]
  },
  {
   "cell_type": "code",
   "execution_count": 22,
   "metadata": {
    "scrolled": false
   },
   "outputs": [
    {
     "data": {
      "text/plain": [
       "array([0., 1., 0., 0., 0., 0., 0., 0., 0., 0., 0., 0., 0., 0., 0., 0., 0.,\n",
       "       0., 0., 0., 0., 0.])"
      ]
     },
     "execution_count": 22,
     "metadata": {},
     "output_type": "execute_result"
    }
   ],
   "source": [
    "k(2)"
   ]
  },
  {
   "cell_type": "code",
   "execution_count": 4,
   "metadata": {},
   "outputs": [],
   "source": [
    "C = np.array([[0,8,0,0,0,0,0,0,0,0,0,0,0,0,0,0,0,0,0,0,0,0],\n",
    "              [1,0,3,3,1,0,0,0,0,0,0,0,0,0,0,0,0,0,0,0,0,0],\n",
    "              [0,2,0,0,0,4,2,0,0,0,0,0,0,0,0,0,0,0,0,0,0,0],\n",
    "              [0,2,0,0,0,2,2,2,0,0,0,0,0,0,0,0,0,0,0,0,0,0],\n",
    "              [0,2,0,0,0,0,6,0,0,0,0,0,0,0,0,0,0,0,0,0,0,0],\n",
    "              [0,0,2,1,0,0,0,0,1,2,1,1,0,0,0,0,0,0,0,0,0,0],\n",
    "              [0,0,1,1,1,0,0,0,0,2,0,2,1,0,0,0,0,0,0,0,0,0],\n",
    "              [0,0,0,3,0,0,0,0,1,0,0,3,0,1,0,0,0,0,0,0,0,0],\n",
    "\n",
    "              [0,0,0,0,0,3,0,1,0,0,0,0,0,0,1,0,3,0,0,0,0,0],\n",
    "              [0,0,0,0,0,2,2,0,0,0,0,0,0,0,0,2,2,0,0,0,0,0],\n",
    "              [0,0,0,0,0,4,0,0,0,0,0,0,0,0,0,0,4,0,0,0,0,0],\n",
    "              [0,0,0,0,0,1,2,1,0,0,0,0,0,0,1,2,1,0,0,0,0,0],\n",
    "              [0,0,0,0,0,0,4,0,0,0,0,0,0,0,0,4,0,0,0,0,0,0],\n",
    "              [0,0,0,0,0,0,0,4,0,0,0,0,0,0,4,0,0,0,0,0,0,0],\n",
    "\n",
    "              [0,0,0,0,0,0,0,0,1,0,0,3,0,1,0,0,0,0,3,0,0,0],\n",
    "              [0,0,0,0,0,0,0,0,0,2,0,2,1,0,0,0,0,1,1,1,0,0],\n",
    "              [0,0,0,0,0,0,0,0,1,2,1,1,0,0,0,0,0,0,1,2,0,0],\n",
    "              [0,0,0,0,0,0,0,0,0,0,0,0,0,0,0,6,0,0,0,0,2,0],\n",
    "              [0,0,0,0,0,0,0,0,0,0,0,0,0,0,2,2,2,0,0,0,2,0],\n",
    "              [0,0,0,0,0,0,0,0,0,0,0,0,0,0,0,2,4,0,0,0,2,0],\n",
    "              [0,0,0,0,0,0,0,0,0,0,0,0,0,0,0,0,0,1,3,3,0,1],\n",
    "              [0,0,0,0,0,0,0,0,0,0,0,0,0,0,0,0,0,0,0,0,8,0],\n",
    "\n",
    "             ])"
   ]
  },
  {
   "cell_type": "code",
   "execution_count": 6,
   "metadata": {},
   "outputs": [],
   "source": [
    "def sigmoid(x):\n",
    "    return 1 / (1 + math.exp(-x))"
   ]
  },
  {
   "cell_type": "code",
   "execution_count": 24,
   "metadata": {},
   "outputs": [],
   "source": [
    "#important que a la diagonal hem de posar 1-p (i.e probabilitat de quedarte en el mateix node)\n",
    "def transition_matrix(J,C):\n",
    "    state_ks = [12*J,6*J,4*J,0,0,2*J,-2*J,-6*J,4*J,0,4*J,-4*J,-4*J,-12*J,-6*J,-2*J,2*J,0,0,4*J,6*J,12*J]\n",
    "    T = np.zeros((22,22))\n",
    "\n",
    "    for i, k_int_state in enumerate(state_ks):\n",
    "        for j, k_next_state in enumerate(state_ks):\n",
    "            T[i,j] = (C[i,j]/8)*sigmoid(state_ks[j] - state_ks[i]) #k estat final menys inicial\n",
    "    return T"
   ]
  },
  {
   "cell_type": "code",
   "execution_count": 25,
   "metadata": {},
   "outputs": [
    {
     "data": {
      "text/plain": [
       "array([[0.00000000e+00, 2.47262316e-03, 0.00000000e+00, 0.00000000e+00,\n",
       "        0.00000000e+00, 0.00000000e+00, 0.00000000e+00, 0.00000000e+00,\n",
       "        0.00000000e+00, 0.00000000e+00, 0.00000000e+00, 0.00000000e+00,\n",
       "        0.00000000e+00, 0.00000000e+00, 0.00000000e+00, 0.00000000e+00,\n",
       "        0.00000000e+00, 0.00000000e+00, 0.00000000e+00, 0.00000000e+00,\n",
       "        0.00000000e+00, 0.00000000e+00],\n",
       "       [1.24690922e-01, 0.00000000e+00, 4.47010958e-02, 9.27233684e-04,\n",
       "        3.09077895e-04, 0.00000000e+00, 0.00000000e+00, 0.00000000e+00,\n",
       "        0.00000000e+00, 0.00000000e+00, 0.00000000e+00, 0.00000000e+00,\n",
       "        0.00000000e+00, 0.00000000e+00, 0.00000000e+00, 0.00000000e+00,\n",
       "        0.00000000e+00, 0.00000000e+00, 0.00000000e+00, 0.00000000e+00,\n",
       "        0.00000000e+00, 0.00000000e+00],\n",
       "       [0.00000000e+00, 2.20199269e-01, 0.00000000e+00, 0.00000000e+00,\n",
       "        0.00000000e+00, 5.96014610e-02, 6.18155789e-04, 0.00000000e+00,\n",
       "        0.00000000e+00, 0.00000000e+00, 0.00000000e+00, 0.00000000e+00,\n",
       "        0.00000000e+00, 0.00000000e+00, 0.00000000e+00, 0.00000000e+00,\n",
       "        0.00000000e+00, 0.00000000e+00, 0.00000000e+00, 0.00000000e+00,\n",
       "        0.00000000e+00, 0.00000000e+00],\n",
       "       [0.00000000e+00, 2.49381844e-01, 0.00000000e+00, 0.00000000e+00,\n",
       "        0.00000000e+00, 2.20199269e-01, 2.98007305e-02, 6.18155789e-04,\n",
       "        0.00000000e+00, 0.00000000e+00, 0.00000000e+00, 0.00000000e+00,\n",
       "        0.00000000e+00, 0.00000000e+00, 0.00000000e+00, 0.00000000e+00,\n",
       "        0.00000000e+00, 0.00000000e+00, 0.00000000e+00, 0.00000000e+00,\n",
       "        0.00000000e+00, 0.00000000e+00],\n",
       "       [0.00000000e+00, 2.49381844e-01, 0.00000000e+00, 0.00000000e+00,\n",
       "        0.00000000e+00, 0.00000000e+00, 8.94021915e-02, 0.00000000e+00,\n",
       "        0.00000000e+00, 0.00000000e+00, 0.00000000e+00, 0.00000000e+00,\n",
       "        0.00000000e+00, 0.00000000e+00, 0.00000000e+00, 0.00000000e+00,\n",
       "        0.00000000e+00, 0.00000000e+00, 0.00000000e+00, 0.00000000e+00,\n",
       "        0.00000000e+00, 0.00000000e+00],\n",
       "       [0.00000000e+00, 0.00000000e+00, 2.20199269e-01, 1.49003653e-02,\n",
       "        0.00000000e+00, 0.00000000e+00, 0.00000000e+00, 0.00000000e+00,\n",
       "        1.10099635e-01, 2.98007305e-02, 1.10099635e-01, 3.09077895e-04,\n",
       "        0.00000000e+00, 0.00000000e+00, 0.00000000e+00, 0.00000000e+00,\n",
       "        0.00000000e+00, 0.00000000e+00, 0.00000000e+00, 0.00000000e+00,\n",
       "        0.00000000e+00, 0.00000000e+00],\n",
       "       [0.00000000e+00, 0.00000000e+00, 1.24690922e-01, 1.10099635e-01,\n",
       "        1.10099635e-01, 0.00000000e+00, 0.00000000e+00, 0.00000000e+00,\n",
       "        0.00000000e+00, 2.20199269e-01, 0.00000000e+00, 2.98007305e-02,\n",
       "        1.49003653e-02, 0.00000000e+00, 0.00000000e+00, 0.00000000e+00,\n",
       "        0.00000000e+00, 0.00000000e+00, 0.00000000e+00, 0.00000000e+00,\n",
       "        0.00000000e+00, 0.00000000e+00],\n",
       "       [0.00000000e+00, 0.00000000e+00, 0.00000000e+00, 3.74072766e-01,\n",
       "        0.00000000e+00, 0.00000000e+00, 0.00000000e+00, 0.00000000e+00,\n",
       "        1.24994325e-01, 0.00000000e+00, 0.00000000e+00, 3.30298904e-01,\n",
       "        0.00000000e+00, 3.09077895e-04, 0.00000000e+00, 0.00000000e+00,\n",
       "        0.00000000e+00, 0.00000000e+00, 0.00000000e+00, 0.00000000e+00,\n",
       "        0.00000000e+00, 0.00000000e+00],\n",
       "       [0.00000000e+00, 0.00000000e+00, 0.00000000e+00, 0.00000000e+00,\n",
       "        0.00000000e+00, 4.47010958e-02, 0.00000000e+00, 5.67473359e-06,\n",
       "        0.00000000e+00, 0.00000000e+00, 0.00000000e+00, 0.00000000e+00,\n",
       "        0.00000000e+00, 0.00000000e+00, 5.67473359e-06, 0.00000000e+00,\n",
       "        4.47010958e-02, 0.00000000e+00, 0.00000000e+00, 0.00000000e+00,\n",
       "        0.00000000e+00, 0.00000000e+00],\n",
       "       [0.00000000e+00, 0.00000000e+00, 0.00000000e+00, 0.00000000e+00,\n",
       "        0.00000000e+00, 2.20199269e-01, 2.98007305e-02, 0.00000000e+00,\n",
       "        0.00000000e+00, 0.00000000e+00, 0.00000000e+00, 0.00000000e+00,\n",
       "        0.00000000e+00, 0.00000000e+00, 0.00000000e+00, 2.98007305e-02,\n",
       "        2.20199269e-01, 0.00000000e+00, 0.00000000e+00, 0.00000000e+00,\n",
       "        0.00000000e+00, 0.00000000e+00],\n",
       "       [0.00000000e+00, 0.00000000e+00, 0.00000000e+00, 0.00000000e+00,\n",
       "        0.00000000e+00, 5.96014610e-02, 0.00000000e+00, 0.00000000e+00,\n",
       "        0.00000000e+00, 0.00000000e+00, 0.00000000e+00, 0.00000000e+00,\n",
       "        0.00000000e+00, 0.00000000e+00, 0.00000000e+00, 0.00000000e+00,\n",
       "        5.96014610e-02, 0.00000000e+00, 0.00000000e+00, 0.00000000e+00,\n",
       "        0.00000000e+00, 0.00000000e+00],\n",
       "       [0.00000000e+00, 0.00000000e+00, 0.00000000e+00, 0.00000000e+00,\n",
       "        0.00000000e+00, 1.24690922e-01, 2.20199269e-01, 1.49003653e-02,\n",
       "        0.00000000e+00, 0.00000000e+00, 0.00000000e+00, 0.00000000e+00,\n",
       "        0.00000000e+00, 0.00000000e+00, 1.49003653e-02, 2.20199269e-01,\n",
       "        1.24690922e-01, 0.00000000e+00, 0.00000000e+00, 0.00000000e+00,\n",
       "        0.00000000e+00, 0.00000000e+00],\n",
       "       [0.00000000e+00, 0.00000000e+00, 0.00000000e+00, 0.00000000e+00,\n",
       "        0.00000000e+00, 0.00000000e+00, 4.40398539e-01, 0.00000000e+00,\n",
       "        0.00000000e+00, 0.00000000e+00, 0.00000000e+00, 0.00000000e+00,\n",
       "        0.00000000e+00, 0.00000000e+00, 0.00000000e+00, 4.40398539e-01,\n",
       "        0.00000000e+00, 0.00000000e+00, 0.00000000e+00, 0.00000000e+00,\n",
       "        0.00000000e+00, 0.00000000e+00],\n",
       "       [0.00000000e+00, 0.00000000e+00, 0.00000000e+00, 0.00000000e+00,\n",
       "        0.00000000e+00, 0.00000000e+00, 0.00000000e+00, 4.98763688e-01,\n",
       "        0.00000000e+00, 0.00000000e+00, 0.00000000e+00, 0.00000000e+00,\n",
       "        0.00000000e+00, 0.00000000e+00, 4.98763688e-01, 0.00000000e+00,\n",
       "        0.00000000e+00, 0.00000000e+00, 0.00000000e+00, 0.00000000e+00,\n",
       "        0.00000000e+00, 0.00000000e+00],\n",
       "       [0.00000000e+00, 0.00000000e+00, 0.00000000e+00, 0.00000000e+00,\n",
       "        0.00000000e+00, 0.00000000e+00, 0.00000000e+00, 0.00000000e+00,\n",
       "        1.24994325e-01, 0.00000000e+00, 0.00000000e+00, 3.30298904e-01,\n",
       "        0.00000000e+00, 3.09077895e-04, 0.00000000e+00, 0.00000000e+00,\n",
       "        0.00000000e+00, 0.00000000e+00, 3.74072766e-01, 0.00000000e+00,\n",
       "        0.00000000e+00, 0.00000000e+00],\n",
       "       [0.00000000e+00, 0.00000000e+00, 0.00000000e+00, 0.00000000e+00,\n",
       "        0.00000000e+00, 0.00000000e+00, 0.00000000e+00, 0.00000000e+00,\n",
       "        0.00000000e+00, 2.20199269e-01, 0.00000000e+00, 2.98007305e-02,\n",
       "        1.49003653e-02, 0.00000000e+00, 0.00000000e+00, 0.00000000e+00,\n",
       "        0.00000000e+00, 1.10099635e-01, 1.10099635e-01, 1.24690922e-01,\n",
       "        0.00000000e+00, 0.00000000e+00],\n",
       "       [0.00000000e+00, 0.00000000e+00, 0.00000000e+00, 0.00000000e+00,\n",
       "        0.00000000e+00, 0.00000000e+00, 0.00000000e+00, 0.00000000e+00,\n",
       "        1.10099635e-01, 2.98007305e-02, 1.10099635e-01, 3.09077895e-04,\n",
       "        0.00000000e+00, 0.00000000e+00, 0.00000000e+00, 0.00000000e+00,\n",
       "        0.00000000e+00, 0.00000000e+00, 1.49003653e-02, 2.20199269e-01,\n",
       "        0.00000000e+00, 0.00000000e+00],\n",
       "       [0.00000000e+00, 0.00000000e+00, 0.00000000e+00, 0.00000000e+00,\n",
       "        0.00000000e+00, 0.00000000e+00, 0.00000000e+00, 0.00000000e+00,\n",
       "        0.00000000e+00, 0.00000000e+00, 0.00000000e+00, 0.00000000e+00,\n",
       "        0.00000000e+00, 0.00000000e+00, 0.00000000e+00, 8.94021915e-02,\n",
       "        0.00000000e+00, 0.00000000e+00, 0.00000000e+00, 0.00000000e+00,\n",
       "        2.49381844e-01, 0.00000000e+00],\n",
       "       [0.00000000e+00, 0.00000000e+00, 0.00000000e+00, 0.00000000e+00,\n",
       "        0.00000000e+00, 0.00000000e+00, 0.00000000e+00, 0.00000000e+00,\n",
       "        0.00000000e+00, 0.00000000e+00, 0.00000000e+00, 0.00000000e+00,\n",
       "        0.00000000e+00, 0.00000000e+00, 6.18155789e-04, 2.98007305e-02,\n",
       "        2.20199269e-01, 0.00000000e+00, 0.00000000e+00, 0.00000000e+00,\n",
       "        2.49381844e-01, 0.00000000e+00],\n",
       "       [0.00000000e+00, 0.00000000e+00, 0.00000000e+00, 0.00000000e+00,\n",
       "        0.00000000e+00, 0.00000000e+00, 0.00000000e+00, 0.00000000e+00,\n",
       "        0.00000000e+00, 0.00000000e+00, 0.00000000e+00, 0.00000000e+00,\n",
       "        0.00000000e+00, 0.00000000e+00, 0.00000000e+00, 6.18155789e-04,\n",
       "        5.96014610e-02, 0.00000000e+00, 0.00000000e+00, 0.00000000e+00,\n",
       "        2.20199269e-01, 0.00000000e+00],\n",
       "       [0.00000000e+00, 0.00000000e+00, 0.00000000e+00, 0.00000000e+00,\n",
       "        0.00000000e+00, 0.00000000e+00, 0.00000000e+00, 0.00000000e+00,\n",
       "        0.00000000e+00, 0.00000000e+00, 0.00000000e+00, 0.00000000e+00,\n",
       "        0.00000000e+00, 0.00000000e+00, 0.00000000e+00, 0.00000000e+00,\n",
       "        0.00000000e+00, 3.09077895e-04, 9.27233684e-04, 4.47010958e-02,\n",
       "        0.00000000e+00, 1.24690922e-01],\n",
       "       [0.00000000e+00, 0.00000000e+00, 0.00000000e+00, 0.00000000e+00,\n",
       "        0.00000000e+00, 0.00000000e+00, 0.00000000e+00, 0.00000000e+00,\n",
       "        0.00000000e+00, 0.00000000e+00, 0.00000000e+00, 0.00000000e+00,\n",
       "        0.00000000e+00, 0.00000000e+00, 0.00000000e+00, 0.00000000e+00,\n",
       "        0.00000000e+00, 0.00000000e+00, 0.00000000e+00, 0.00000000e+00,\n",
       "        2.47262316e-03, 0.00000000e+00]])"
      ]
     },
     "execution_count": 25,
     "metadata": {},
     "output_type": "execute_result"
    }
   ],
   "source": [
    "transition_matrix(1,C)"
   ]
  },
  {
   "cell_type": "code",
   "execution_count": 60,
   "metadata": {},
   "outputs": [],
   "source": [
    "def k(x):\n",
    "    return 1/2*(np.matmul(x,np.matmul(THETA,x)))"
   ]
  },
  {
   "cell_type": "code",
   "execution_count": 67,
   "metadata": {},
   "outputs": [],
   "source": [
    "def Gibbs(J,num_iter):\n",
    "    #empty transition matrix\n",
    "    T = np.zeros((22,22))\n",
    "    \n",
    "    #initialize random state of the cube\n",
    "    vec = np.random.randint(2, size=10)\n",
    "    aux_vec = 1 - vec\n",
    "    vec = vec*-1\n",
    "    state_vec = vec + aux_vec\n",
    "    \n",
    "    for i in range(num_iter):\n",
    "        new_state = state_vec\n",
    "        q = np.random.randint(8) #generate a random number between 0 and 7\n",
    "        new_state = new_state[q]*-1\n",
    "        p = 1/8*sigmoid(J*(k(new_state)-k(state_vec)))\n",
    "        \n",
    "        if np.random.binomial(1, p, size=None):\n",
    "            T[current_state(state_vec)][current_state(new_state)] += 1\n",
    "            state_vec = new_state\n",
    "        \n",
    "        else:\n",
    "            T[current_state(state_vec)][current_state(state_vec)] += 1\n",
    "        return T/num_iter"
   ]
  },
  {
   "cell_type": "code",
   "execution_count": null,
   "metadata": {},
   "outputs": [],
   "source": [
    "def mean_field(J,num_iter):\n",
    "    #initialize random state of the cube\n",
    "    vec = np.random.randint(2, size=10)\n",
    "    aux_vec = 1 - vec\n",
    "    vec = vec*-1\n",
    "    state_vec = vec + aux_vec\n",
    "    \n",
    "    for i in range(num_iter):\n",
    "        for j in range(8):\n",
    "            state_vec[]\n",
    "        print(state_vec)"
   ]
  },
  {
   "cell_type": "code",
   "execution_count": 127,
   "metadata": {},
   "outputs": [],
   "source": [
    "#per mu==0 k==0\n",
    "v1 = np.array([1, 1, 1, -1, -1, 1, -1, -1])*-1\n",
    "v2 = np.array([-1, 1, -1, 1, 1, 1, -1, -1])*-1\n",
    "v3 = np.array([1, -1, -1, -1, 1, 1, -1, 1])*-1\n",
    "\n",
    "b1 = np.array([1, 1, 1, -1, 1, -1, -1, -1])*-1\n",
    "b2 = np.array([1, 1, -1, 1, -1, 1, -1, -1])*-1\n",
    "b3 = np.array([1, 1, 1, -1, 1, -1, -1, -1])*-1\n",
    "#per mu==0 k==-4\n",
    "w1 = np.array([1, 1, 1, -1, -1, -1, -1, 1])*-1\n",
    "w2 = np.array([-1, 1, -1, 1, -1, 1, 1, -1])*-1\n",
    "w3 = np.array([-1, -1, 1, 1, -1, 1, 1, -1])*-1\n",
    "\n",
    "a1 = np.array([1, -1, 1, -1, -1, 1, -1, 1])*-1\n",
    "a2 = np.array([1, -1, -1, 1, 1, -1, -1, 1])*-1\n",
    "a3 = np.array([-1, 1, -1, 1, 1, -1, 1, -1])*-1\n",
    "\n",
    "#per mu==4 k==0\n",
    "q1 = np.array([1,-1, -1, 1, -1, -1, -1, -1])*-1\n",
    "q2 = np.array([-1, 1, -1, -1, -1, -1, -1, 1])*-1\n",
    "q3 = np.array([-1, -1, 1, -1, -1, 1, -1, -1])*-1\n",
    "\n",
    "z1 = np.array([1, -1, -1, -1, -1, -1, -1, 1])*-1\n",
    "z2 = np.array([-1, 1, -1, -1, -1, -1, 1, -1])*-1\n",
    "z3 = np.array([-1, -1, 1, -1, -1, 1, -1, -1])*-1"
   ]
  },
  {
   "cell_type": "code",
   "execution_count": 128,
   "metadata": {
    "scrolled": true
   },
   "outputs": [
    {
     "name": "stdout",
     "output_type": "stream",
     "text": [
      "[ 3 -1 -1  3  1  3  3  1]\n",
      "[ 1  3  3 -1  3 -1  1  3]\n",
      "[1 1 3 1 1 3 1 1]\n"
     ]
    }
   ],
   "source": [
    "print(np.matmul(theta,q1))\n",
    "print(np.matmul(theta,q2))\n",
    "print(np.matmul(theta,q3))"
   ]
  },
  {
   "cell_type": "code",
   "execution_count": 129,
   "metadata": {},
   "outputs": [
    {
     "name": "stdout",
     "output_type": "stream",
     "text": [
      "[3 1 1 1 1 1 1 3]\n",
      "[1 3 1 1 1 1 3 1]\n",
      "[1 1 3 1 1 3 1 1]\n"
     ]
    }
   ],
   "source": [
    "print(np.matmul(theta,z1))\n",
    "print(np.matmul(theta,z2))\n",
    "print(np.matmul(theta,z3))"
   ]
  },
  {
   "cell_type": "markdown",
   "metadata": {},
   "source": [
    "# Clean algorithms"
   ]
  },
  {
   "cell_type": "code",
   "execution_count": 1,
   "metadata": {},
   "outputs": [],
   "source": [
    "import numpy as np\n",
    "import math\n",
    "import numpy.linalg as linalg\n",
    "import matplotlib.pyplot as plt"
   ]
  },
  {
   "cell_type": "code",
   "execution_count": 2,
   "metadata": {},
   "outputs": [],
   "source": [
    "theta = np.array([[0 ,1 ,1 ,0 ,1 ,0 ,0 ,0],[1, 0, 0, 1, 0, 1, 0, 0],[1, 0, 0, 1, 0, 0, 1, 0],[0, 1, 1, 0, 0, 0, 0, 1],[1, 0, 0, 0, 0, 1, 1, 0],\n",
    "                 [0, 1, 0, 0, 1, 0, 0, 1],[0, 0, 1, 0, 1, 0, 0, 1],[0, 0, 0, 1, 0, 1, 1, 0]])"
   ]
  },
  {
   "cell_type": "markdown",
   "metadata": {},
   "source": [
    "### Brute force"
   ]
  },
  {
   "cell_type": "code",
   "execution_count": 3,
   "metadata": {},
   "outputs": [],
   "source": [
    "def ising_prob(state_vec,theta):\n",
    "    return 1/2*(np.matmul(state_vec,np.matmul(theta,state_vec)))"
   ]
  },
  {
   "cell_type": "code",
   "execution_count": 4,
   "metadata": {},
   "outputs": [],
   "source": [
    "def current_state_14(state_vec,theta):\n",
    "    #per afegir els 22 casos totals es molt facil/ sumar i veure si es positiva o negativa la suma\n",
    "    mu = abs(sum(state_vec))\n",
    "    k = ising_prob(state_vec,theta)\n",
    "    if mu == 8:\n",
    "        return 0\n",
    "    elif mu == 6:\n",
    "        return 1\n",
    "    elif mu == 4:\n",
    "        if k == 4:\n",
    "            return 2\n",
    "        else:\n",
    "            distinc_vec = np.matmul(theta,state_vec)\n",
    "            if -1 in distinc_vec:\n",
    "                if np.count_nonzero(distinc_vec+3) != 6:\n",
    "                    return 3\n",
    "                return 4\n",
    "            else:\n",
    "                return 4\n",
    "    elif mu == 2:\n",
    "        if k == 2:\n",
    "            return 5\n",
    "        elif k == -2:\n",
    "            return 6\n",
    "        else:\n",
    "            return 7\n",
    "    else:\n",
    "        if k == 0:\n",
    "            distinc_vec = np.matmul(theta,state_vec)\n",
    "            if 3 in distinc_vec:\n",
    "                return 8\n",
    "            else:\n",
    "                return 9\n",
    "        elif k == 4:\n",
    "            return 10\n",
    "        elif k == -4:\n",
    "            distinc_vec = np.matmul(theta,state_vec)\n",
    "            if 3 in distinc_vec:\n",
    "                return 11\n",
    "            else:\n",
    "                return 12\n",
    "        else:\n",
    "            return 13\n",
    "            "
   ]
  },
  {
   "cell_type": "code",
   "execution_count": 5,
   "metadata": {},
   "outputs": [],
   "source": [
    "def prob_brute_force(theta,J):\n",
    "    states = np.zeros(14)\n",
    "    for i in range(256):\n",
    "        vec = np.array([int(x) for x in list('{:08b}'.format(i))])\n",
    "        aux_vec = 1 - vec;\n",
    "        vec = vec*-1;\n",
    "        state_vec = vec + aux_vec;\n",
    "        #states[current_state_14(state_vec,theta)]+=1 #guardes quants cops entres a cada estat\n",
    "        k = ising_prob(state_vec,theta)\n",
    "        states[current_state_14(state_vec,theta)]+= np.exp(k*J)\n",
    "        states/=sum(states)\n",
    "    return states"
   ]
  },
  {
   "cell_type": "code",
   "execution_count": 24,
   "metadata": {},
   "outputs": [
    {
     "data": {
      "text/plain": [
       "array([9.99993856e-01, 6.14413771e-06, 3.68906505e-11, 1.50262519e-17,\n",
       "       8.59720796e-37, 1.32331637e-17, 2.32499047e-37, 8.52413897e-39,\n",
       "       1.71944155e-36, 4.80354469e-37, 1.19140416e-27, 2.64158558e-39,\n",
       "       2.97626320e-57, 5.91582535e-82])"
      ]
     },
     "execution_count": 24,
     "metadata": {},
     "output_type": "execute_result"
    }
   ],
   "source": [
    "prob_brute_force(theta,1)"
   ]
  },
  {
   "cell_type": "markdown",
   "metadata": {},
   "source": [
    "### Transition matrix"
   ]
  },
  {
   "cell_type": "code",
   "execution_count": 6,
   "metadata": {},
   "outputs": [],
   "source": [
    "C = np.array([[0,8,0,0,0,0,0,0,0,0,0,0,0,0,0,0,0,0,0,0,0,0],\n",
    "              [1,0,3,3,1,0,0,0,0,0,0,0,0,0,0,0,0,0,0,0,0,0],\n",
    "              [0,2,0,0,0,4,2,0,0,0,0,0,0,0,0,0,0,0,0,0,0,0],\n",
    "              [0,2,0,0,0,2,2,2,0,0,0,0,0,0,0,0,0,0,0,0,0,0],\n",
    "              [0,2,0,0,0,0,6,0,0,0,0,0,0,0,0,0,0,0,0,0,0,0],\n",
    "              [0,0,2,1,0,0,0,0,1,2,1,1,0,0,0,0,0,0,0,0,0,0],\n",
    "              [0,0,1,1,1,0,0,0,0,2,0,2,1,0,0,0,0,0,0,0,0,0],\n",
    "              [0,0,0,3,0,0,0,0,1,0,0,3,0,1,0,0,0,0,0,0,0,0],\n",
    "\n",
    "              [0,0,0,0,0,3,0,1,0,0,0,0,0,0,1,0,3,0,0,0,0,0],\n",
    "              [0,0,0,0,0,2,2,0,0,0,0,0,0,0,0,2,2,0,0,0,0,0],\n",
    "              [0,0,0,0,0,4,0,0,0,0,0,0,0,0,0,0,4,0,0,0,0,0],\n",
    "              [0,0,0,0,0,1,2,1,0,0,0,0,0,0,1,2,1,0,0,0,0,0],\n",
    "              [0,0,0,0,0,0,4,0,0,0,0,0,0,0,0,4,0,0,0,0,0,0],\n",
    "              [0,0,0,0,0,0,0,4,0,0,0,0,0,0,4,0,0,0,0,0,0,0],\n",
    "\n",
    "              [0,0,0,0,0,0,0,0,1,0,0,3,0,1,0,0,0,0,3,0,0,0],\n",
    "              [0,0,0,0,0,0,0,0,0,2,0,2,1,0,0,0,0,1,1,1,0,0],\n",
    "              [0,0,0,0,0,0,0,0,1,2,1,1,0,0,0,0,0,0,1,2,0,0],\n",
    "              [0,0,0,0,0,0,0,0,0,0,0,0,0,0,0,6,0,0,0,0,2,0],\n",
    "              [0,0,0,0,0,0,0,0,0,0,0,0,0,0,2,2,2,0,0,0,2,0],\n",
    "              [0,0,0,0,0,0,0,0,0,0,0,0,0,0,0,2,4,0,0,0,2,0],\n",
    "              [0,0,0,0,0,0,0,0,0,0,0,0,0,0,0,0,0,1,3,3,0,1],\n",
    "              [0,0,0,0,0,0,0,0,0,0,0,0,0,0,0,0,0,0,0,0,8,0],\n",
    "\n",
    "             ])"
   ]
  },
  {
   "cell_type": "code",
   "execution_count": 7,
   "metadata": {},
   "outputs": [],
   "source": [
    "def sigmoid(x):\n",
    "    return 1 / (1 + math.exp(-x))"
   ]
  },
  {
   "cell_type": "code",
   "execution_count": 8,
   "metadata": {},
   "outputs": [],
   "source": [
    "#important que a la diagonal hem de posar 1-p (i.e probabilitat de quedarte en el mateix node)\n",
    "def transition_matrix(J,C):\n",
    "    state_ks = [12*J,6*J,4*J,0,0,2*J,-2*J,-6*J,4*J,0,4*J,-4*J,-4*J,-12*J,-6*J,-2*J,2*J,0,0,4*J,6*J,12*J]\n",
    "    T = np.zeros((22,22))\n",
    "\n",
    "    for i, k_int_state in enumerate(state_ks):\n",
    "        for j, k_next_state in enumerate(state_ks):\n",
    "            T[i,j] = (C[i,j]/8)*sigmoid(state_ks[j] - state_ks[i]) #k estat final menys inicial\n",
    "            \n",
    "    np.fill_diagonal(T, [1-sum(row) for row in T])\n",
    "    \n",
    "    return T"
   ]
  },
  {
   "cell_type": "code",
   "execution_count": 28,
   "metadata": {},
   "outputs": [],
   "source": [
    "T = transition_matrix(1,C)"
   ]
  },
  {
   "cell_type": "code",
   "execution_count": 17,
   "metadata": {},
   "outputs": [
    {
     "data": {
      "image/png": "[encoded data removed]",
      "text/plain": [
       "<Figure size 432x288 with 1 Axes>"
      ]
     },
     "metadata": {
      "needs_background": "light"
     },
     "output_type": "display_data"
    }
   ],
   "source": [
    "#lambda plots\n",
    "lambdas = []\n",
    "J = [i for i in np.arange(0,1,0.01)]\n",
    "for j in J:\n",
    "    T = transition_matrix(j,C)\n",
    "    eigenValues, eigenVectors = linalg.eig(T)\n",
    "    idx = eigenValues.argsort()[::-1] #l'ultim que se'n va a 0 és el més gordo\n",
    "    eigenValues = eigenValues[idx] \n",
    "    lambdas.append(eigenValues[1])\n",
    "plt.plot(J,lambdas)\n",
    "plt.xlabel('J')\n",
    "plt.ylabel('$\\lambda$')\n",
    "  \n",
    "# giving a title to my graph\n",
    "plt.title('Eigenvalues of the transition matrix')\n",
    "  \n",
    "# function to show the plot\n",
    "plt.show()"
   ]
  },
  {
   "cell_type": "markdown",
   "metadata": {},
   "source": [
    "### Algorithms"
   ]
  },
  {
   "cell_type": "code",
   "execution_count": 9,
   "metadata": {},
   "outputs": [],
   "source": [
    "def ising_prob(state_vec,theta):\n",
    "    return 1/2*(np.matmul(state_vec,np.matmul(theta,state_vec)))"
   ]
  },
  {
   "cell_type": "code",
   "execution_count": 10,
   "metadata": {},
   "outputs": [],
   "source": [
    "def current_state(state_vec,theta):\n",
    "    #per afegir els 22 casos totals es molt facil/ sumar i veure si es positiva o negativa la suma\n",
    "    mu = abs(sum(state_vec))\n",
    "    k = ising_prob(state_vec,theta)\n",
    "    if mu == 8:\n",
    "        if sum(state_vec)<0:\n",
    "            return 21\n",
    "        return 0\n",
    "    elif mu == 6:\n",
    "        if sum(state_vec)<0:\n",
    "            return 20\n",
    "        return 1\n",
    "    elif mu == 4:\n",
    "        if k == 4:\n",
    "            if sum(state_vec)<0:\n",
    "                return 19\n",
    "            return 2\n",
    "        else:\n",
    "            distinc_vec = np.matmul(theta,state_vec)\n",
    "            if -1 in distinc_vec:\n",
    "                if np.count_nonzero(distinc_vec+3) != 6:\n",
    "                    if sum(state_vec)<0:\n",
    "                        return 18\n",
    "                    return 3\n",
    "                if sum(state_vec)<0:\n",
    "                    return 17\n",
    "                return 4\n",
    "            else:\n",
    "                if sum(state_vec)<0:\n",
    "                    return 17\n",
    "                return 4\n",
    "    elif mu == 2:\n",
    "        if k == 2:\n",
    "            if sum(state_vec)<0:\n",
    "                return 16\n",
    "            return 5\n",
    "        elif k == -2:\n",
    "            if sum(state_vec)<0:\n",
    "                return 15\n",
    "            return 6\n",
    "        else:\n",
    "            if sum(state_vec)<0:\n",
    "                return 14\n",
    "            return 7\n",
    "    else:\n",
    "        if k == 0:\n",
    "            distinc_vec = np.matmul(theta,state_vec)\n",
    "            if 3 in distinc_vec:\n",
    "                return 8\n",
    "            else:\n",
    "                return 9\n",
    "        elif k == 4:\n",
    "            return 10\n",
    "        elif k == -4:\n",
    "            distinc_vec = np.matmul(theta,state_vec)\n",
    "            if 3 in distinc_vec:\n",
    "                return 11\n",
    "            else:\n",
    "                return 12\n",
    "        else:\n",
    "            return 13\n",
    "            "
   ]
  },
  {
   "cell_type": "code",
   "execution_count": 11,
   "metadata": {},
   "outputs": [],
   "source": [
    "def Gibbs(J,num_iter):\n",
    "    #empty transition matrix\n",
    "    T = np.zeros(22)\n",
    "    \n",
    "    #initialize random state of the cube\n",
    "    vec = np.random.randint(2, size=8)\n",
    "    aux_vec = 1 - vec\n",
    "    vec = vec*-1\n",
    "    state_vec = vec + aux_vec\n",
    "    \n",
    "    burn_in = 0\n",
    "    for i in range(num_iter):\n",
    "        new_state = np.copy(state_vec)\n",
    "        q = np.random.randint(8) #generate a random number between 0 and 7\n",
    "        new_state[q] = new_state[q]*-1\n",
    "        p = sigmoid(J*(ising_prob(new_state,theta)-ising_prob(state_vec,theta)))\n",
    "        \n",
    "        #burn in\n",
    "        if i < 0.2*num_iter and i < 300:\n",
    "            if np.random.binomial(1, p, size=None):\n",
    "                state_vec = new_state\n",
    "                burn_in += 1\n",
    "            continue\n",
    "            \n",
    "        if np.random.binomial(1, p, size=None):\n",
    "            T[current_state(new_state,theta)] += 1\n",
    "            state_vec = new_state\n",
    "        \n",
    "        else:\n",
    "            T[current_state(state_vec,theta)] += 1\n",
    "    return T/(num_iter-burn_in)"
   ]
  },
  {
   "cell_type": "code",
   "execution_count": 33,
   "metadata": {},
   "outputs": [
    {
     "data": {
      "text/plain": [
       "array([0.03305793, 0.07716188, 0.07994592, 0.03371889, 0.01341946,\n",
       "       0.10599369, 0.04987231, 0.00759101, 0.02523659, 0.07422763,\n",
       "       0.03912673, 0.03278754, 0.0086926 , 0.00068099, 0.00713034,\n",
       "       0.04969205, 0.11102098, 0.01208753, 0.03606229, 0.08194883,\n",
       "       0.08311051, 0.03588203])"
      ]
     },
     "execution_count": 33,
     "metadata": {},
     "output_type": "execute_result"
    }
   ],
   "source": [
    "Gibbs(0.2,100000) #sembla ser que ja convergeix"
   ]
  },
  {
   "cell_type": "code",
   "execution_count": 12,
   "metadata": {},
   "outputs": [],
   "source": [
    "#per poder fer comprovacions\n",
    "def Z(J):\n",
    "    return 2*np.exp(12*J) + 16*np.exp(6*J) + 30*np.exp(4*J) + 48*np.exp(2*J) + 48*np.exp(-2*J) + 30*np.exp(-4*J) + 16*np.exp(-6*J) + 2*np.exp(-12*J) + 64"
   ]
  },
  {
   "cell_type": "code",
   "execution_count": 13,
   "metadata": {},
   "outputs": [],
   "source": [
    "def comprovar(J):\n",
    "    print(2*np.exp(12*J)/Z(J))\n",
    "    print(16*np.exp(6*J)/Z(J))\n",
    "    print(24*np.exp(4*J)/Z(J))\n",
    "    print(24/Z(J))\n",
    "    print(8/Z(J))"
   ]
  },
  {
   "cell_type": "code",
   "execution_count": 93,
   "metadata": {},
   "outputs": [
    {
     "name": "stdout",
     "output_type": "stream",
     "text": [
      "0.9744974632327609\n",
      "0.019324301665152404\n",
      "0.00392288975880472\n",
      "7.185023222258079e-05\n",
      "2.3950077407526928e-05\n"
     ]
    }
   ],
   "source": [
    "comprovar(1)"
   ]
  },
  {
   "cell_type": "markdown",
   "metadata": {},
   "source": [
    "### Mean field"
   ]
  },
  {
   "cell_type": "code",
   "execution_count": 14,
   "metadata": {},
   "outputs": [],
   "source": [
    "def mean_field(J,num_iter):\n",
    "    #initialize random state of the cube\n",
    "    vec = np.random.rand(8)\n",
    "\n",
    "    for i in range(num_iter):\n",
    "        for q in range(8):\n",
    "            neighbours = theta[q].astype(dtype=bool)\n",
    "            vec[q] = sigmoid(2*J*sum(2*vec[neighbours]-1))\n",
    "    return vec"
   ]
  },
  {
   "cell_type": "code",
   "execution_count": 13,
   "metadata": {},
   "outputs": [
    {
     "data": {
      "text/plain": [
       "array([0.5, 0.5, 0.5, 0.5, 0.5, 0.5, 0.5, 0.5])"
      ]
     },
     "execution_count": 13,
     "metadata": {},
     "output_type": "execute_result"
    }
   ],
   "source": [
    "mean_field(0.2,5000)"
   ]
  },
  {
   "cell_type": "code",
   "execution_count": 10,
   "metadata": {},
   "outputs": [],
   "source": [
    "l = []\n",
    "for j in np.arange(0,1,0.1):\n",
    "    l.append(mean_field(j,5000))"
   ]
  },
  {
   "cell_type": "code",
   "execution_count": 11,
   "metadata": {},
   "outputs": [
    {
     "data": {
      "text/plain": [
       "[array([0.5, 0.5, 0.5, 0.5, 0.5, 0.5, 0.5, 0.5]),\n",
       " array([0.5, 0.5, 0.5, 0.5, 0.5, 0.5, 0.5, 0.5]),\n",
       " array([0.5, 0.5, 0.5, 0.5, 0.5, 0.5, 0.5, 0.5]),\n",
       " array([0.5, 0.5, 0.5, 0.5, 0.5, 0.5, 0.5, 0.5]),\n",
       " array([0.82928483, 0.82928483, 0.82928483, 0.82928483, 0.82928483,\n",
       "        0.82928483, 0.82928483, 0.82928483]),\n",
       " array([0.92927982, 0.92927982, 0.92927982, 0.92927982, 0.92927982,\n",
       "        0.92927982, 0.92927982, 0.92927982]),\n",
       " array([0.96635879, 0.96635879, 0.96635879, 0.96635879, 0.96635879,\n",
       "        0.96635879, 0.96635879, 0.96635879]),\n",
       " array([0.01700381, 0.01700381, 0.01700381, 0.01700381, 0.01700381,\n",
       "        0.01700381, 0.01700381, 0.01700381]),\n",
       " array([0.99111729, 0.99111729, 0.99111729, 0.99111729, 0.99111729,\n",
       "        0.99111729, 0.99111729, 0.99111729]),\n",
       " array([0.00473086, 0.00473086, 0.00473086, 0.00473086, 0.00473086,\n",
       "        0.00473086, 0.00473086, 0.00473086])]"
      ]
     },
     "execution_count": 11,
     "metadata": {},
     "output_type": "execute_result"
    }
   ],
   "source": [
    "l"
   ]
  },
  {
   "cell_type": "code",
   "execution_count": 15,
   "metadata": {},
   "outputs": [],
   "source": [
    "from scipy.optimize import fsolve\n",
    "import numpy as np\n",
    "l = []\n",
    "for j in np.arange(0,1,0.01):\n",
    "    q = lambda q: sigmoid(6*j*(2*q-1)) - q\n",
    "    l.append(fsolve(q,1))"
   ]
  },
  {
   "cell_type": "code",
   "execution_count": 16,
   "metadata": {},
   "outputs": [
    {
     "data": {
      "image/png": "[encoded data removed]",
      "text/plain": [
       "<Figure size 432x288 with 1 Axes>"
      ]
     },
     "metadata": {
      "needs_background": "light"
     },
     "output_type": "display_data"
    }
   ],
   "source": [
    "plt.plot(np.arange(0,1,0.01),l)\n",
    "plt.plot(np.arange(0.33,1,0.01),1-np.array(l[33:]))\n",
    "plt.xlabel('J')\n",
    "plt.ylabel('q')\n",
    "  \n",
    "# giving a title to my graph\n",
    "plt.title('Solutions of the dynamical system')\n",
    "  \n",
    "# function to show the plot\n",
    "plt.show()"
   ]
  },
  {
   "cell_type": "code",
   "execution_count": null,
   "metadata": {},
   "outputs": [],
   "source": []
  }
 ],
 "metadata": {
  "kernelspec": {
   "display_name": "Python 3",
   "language": "python",
   "name": "python3"
  },
  "language_info": {
   "codemirror_mode": {
    "name": "ipython",
    "version": 3
   },
   "file_extension": ".py",
   "mimetype": "text/x-python",
   "name": "python",
   "nbconvert_exporter": "python",
   "pygments_lexer": "ipython3",
   "version": "3.7.4"
  }
 },
 "nbformat": 4,
 "nbformat_minor": 2
}
