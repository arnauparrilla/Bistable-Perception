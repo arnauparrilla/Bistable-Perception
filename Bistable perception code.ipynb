{
 "cells": [
  {
   "cell_type": "code",
   "execution_count": 14,
   "metadata": {},
   "outputs": [],
   "source": [
    "import numpy as np\n",
    "import math\n",
    "import numpy.linalg as linalg\n",
    "import matplotlib.pyplot as plt"
   ]
  },
  {
   "cell_type": "markdown",
   "metadata": {},
   "source": [
    "# Matrix definitions"
   ]
  },
  {
   "cell_type": "markdown",
   "metadata": {},
   "source": [
    "### Necker cube connection matrix"
   ]
  },
  {
   "cell_type": "code",
   "execution_count": 15,
   "metadata": {},
   "outputs": [],
   "source": [
    "theta = np.array([[0 ,1 ,1 ,0 ,1 ,0 ,0 ,0],[1, 0, 0, 1, 0, 1, 0, 0],[1, 0, 0, 1, 0, 0, 1, 0],[0, 1, 1, 0, 0, 0, 0, 1],[1, 0, 0, 0, 0, 1, 1, 0],\n",
    "                 [0, 1, 0, 0, 1, 0, 0, 1],[0, 0, 1, 0, 1, 0, 0, 1],[0, 0, 0, 1, 0, 1, 1, 0]])"
   ]
  },
  {
   "cell_type": "markdown",
   "metadata": {},
   "source": [
    "### Matrix class connections"
   ]
  },
  {
   "cell_type": "code",
   "execution_count": 16,
   "metadata": {},
   "outputs": [],
   "source": [
    "C = np.array([[0,8,0,0,0,0,0,0,0,0,0,0,0,0,0,0,0,0,0,0,0,0],\n",
    "              [1,0,3,3,1,0,0,0,0,0,0,0,0,0,0,0,0,0,0,0,0,0],\n",
    "              [0,2,0,0,0,4,2,0,0,0,0,0,0,0,0,0,0,0,0,0,0,0],\n",
    "              [0,2,0,0,0,2,2,2,0,0,0,0,0,0,0,0,0,0,0,0,0,0],\n",
    "              [0,2,0,0,0,0,6,0,0,0,0,0,0,0,0,0,0,0,0,0,0,0],\n",
    "              [0,0,2,1,0,0,0,0,1,2,1,1,0,0,0,0,0,0,0,0,0,0],\n",
    "              [0,0,1,1,1,0,0,0,0,2,0,2,1,0,0,0,0,0,0,0,0,0],\n",
    "              [0,0,0,3,0,0,0,0,1,0,0,3,0,1,0,0,0,0,0,0,0,0],\n",
    "\n",
    "              [0,0,0,0,0,3,0,1,0,0,0,0,0,0,1,0,3,0,0,0,0,0],\n",
    "              [0,0,0,0,0,2,2,0,0,0,0,0,0,0,0,2,2,0,0,0,0,0],\n",
    "              [0,0,0,0,0,4,0,0,0,0,0,0,0,0,0,0,4,0,0,0,0,0],\n",
    "              [0,0,0,0,0,1,2,1,0,0,0,0,0,0,1,2,1,0,0,0,0,0],\n",
    "              [0,0,0,0,0,0,4,0,0,0,0,0,0,0,0,4,0,0,0,0,0,0],\n",
    "              [0,0,0,0,0,0,0,4,0,0,0,0,0,0,4,0,0,0,0,0,0,0],\n",
    "\n",
    "              [0,0,0,0,0,0,0,0,1,0,0,3,0,1,0,0,0,0,3,0,0,0],\n",
    "              [0,0,0,0,0,0,0,0,0,2,0,2,1,0,0,0,0,1,1,1,0,0],\n",
    "              [0,0,0,0,0,0,0,0,1,2,1,1,0,0,0,0,0,0,1,2,0,0],\n",
    "              [0,0,0,0,0,0,0,0,0,0,0,0,0,0,0,6,0,0,0,0,2,0],\n",
    "              [0,0,0,0,0,0,0,0,0,0,0,0,0,0,2,2,2,0,0,0,2,0],\n",
    "              [0,0,0,0,0,0,0,0,0,0,0,0,0,0,0,2,4,0,0,0,2,0],\n",
    "              [0,0,0,0,0,0,0,0,0,0,0,0,0,0,0,0,0,1,3,3,0,1],\n",
    "              [0,0,0,0,0,0,0,0,0,0,0,0,0,0,0,0,0,0,0,0,8,0],\n",
    "\n",
    "             ])"
   ]
  },
  {
   "cell_type": "markdown",
   "metadata": {},
   "source": [
    "### Transition matrix"
   ]
  },
  {
   "cell_type": "code",
   "execution_count": 17,
   "metadata": {},
   "outputs": [],
   "source": [
    "def transition_matrix(J,C):\n",
    "    state_ks = [12*J,6*J,4*J,0,0,2*J,-2*J,-6*J,4*J,0,4*J,-4*J,-4*J,-12*J,-6*J,-2*J,2*J,0,0,4*J,6*J,12*J]\n",
    "    T = np.zeros((22,22))\n",
    "\n",
    "    for i, k_int_state in enumerate(state_ks):\n",
    "        for j, k_next_state in enumerate(state_ks):\n",
    "            T[i,j] = (C[i,j]/8)*sigmoid(state_ks[j] - state_ks[i]) #k estat final menys inicial\n",
    "            \n",
    "    np.fill_diagonal(T, [1-sum(row) for row in T])\n",
    "    \n",
    "    return T"
   ]
  },
  {
   "cell_type": "markdown",
   "metadata": {},
   "source": [
    "# Auxiliary functions"
   ]
  },
  {
   "cell_type": "markdown",
   "metadata": {},
   "source": [
    "### Ising model probability"
   ]
  },
  {
   "cell_type": "code",
   "execution_count": 18,
   "metadata": {},
   "outputs": [],
   "source": [
    "def ising_prob(state_vec,theta):\n",
    "    return 1/2*(np.matmul(state_vec,np.matmul(theta,state_vec)))"
   ]
  },
  {
   "cell_type": "markdown",
   "metadata": {},
   "source": [
    "### Sigmoid function"
   ]
  },
  {
   "cell_type": "code",
   "execution_count": 19,
   "metadata": {},
   "outputs": [],
   "source": [
    "def sigmoid(x):\n",
    "    return 1 / (1 + math.exp(-x))"
   ]
  },
  {
   "cell_type": "markdown",
   "metadata": {},
   "source": [
    "# Class detection function"
   ]
  },
  {
   "cell_type": "markdown",
   "metadata": {},
   "source": [
    "#### This functions are taken from the research group project"
   ]
  },
  {
   "cell_type": "code",
   "execution_count": 8,
   "metadata": {},
   "outputs": [],
   "source": [
    "\"\"\"\n",
    "This function returns from which of the 22 classes is a given vector\n",
    "\n",
    "Input:\n",
    "- theta: matrix that defines the Necker cube\n",
    "- state_vec: binary vector that corresponds to a cube configuration\n",
    "Output:\n",
    "- returns an iteger that identifies the class\n",
    "\"\"\"\n",
    "\n",
    "def current_state(state_vec,theta):\n",
    "    mu = abs(sum(state_vec))\n",
    "    k = ising_prob(state_vec,theta)\n",
    "    if mu == 8:\n",
    "        if sum(state_vec)<0:\n",
    "            return 21\n",
    "        return 0\n",
    "    elif mu == 6:\n",
    "        if sum(state_vec)<0:\n",
    "            return 20\n",
    "        return 1\n",
    "    elif mu == 4:\n",
    "        if k == 4:\n",
    "            if sum(state_vec)<0:\n",
    "                return 19\n",
    "            return 2\n",
    "        else:\n",
    "            distinc_vec = np.matmul(theta,state_vec)\n",
    "            if -1 in distinc_vec:\n",
    "                if np.count_nonzero(distinc_vec+3) != 6:\n",
    "                    if sum(state_vec)<0:\n",
    "                        return 18\n",
    "                    return 3\n",
    "                if sum(state_vec)<0:\n",
    "                    return 17\n",
    "                return 4\n",
    "            else:\n",
    "                if sum(state_vec)<0:\n",
    "                    return 17\n",
    "                return 4\n",
    "    elif mu == 2:\n",
    "        if k == 2:\n",
    "            if sum(state_vec)<0:\n",
    "                return 16\n",
    "            return 5\n",
    "        elif k == -2:\n",
    "            if sum(state_vec)<0:\n",
    "                return 15\n",
    "            return 6\n",
    "        else:\n",
    "            if sum(state_vec)<0:\n",
    "                return 14\n",
    "            return 7\n",
    "    else:\n",
    "        if k == 0:\n",
    "            distinc_vec = np.matmul(theta,state_vec)\n",
    "            if 3 in distinc_vec:\n",
    "                return 8\n",
    "            else:\n",
    "                return 9\n",
    "        elif k == 4:\n",
    "            return 10\n",
    "        elif k == -4:\n",
    "            distinc_vec = np.matmul(theta,state_vec)\n",
    "            if 3 in distinc_vec:\n",
    "                return 11\n",
    "            else:\n",
    "                return 12\n",
    "        else:\n",
    "            return 13"
   ]
  },
  {
   "cell_type": "code",
   "execution_count": 9,
   "metadata": {},
   "outputs": [],
   "source": [
    "\"\"\"\n",
    "This function returns from which of the 14 classes is a given vector\n",
    "\n",
    "Input:\n",
    "- theta {matrix}: matrix that defines the Necker cube\n",
    "- state_vec {list}: binary vector that corresponds to a cube configuration\n",
    "Output:\n",
    "- returns an iteger that identifies the class\n",
    "\"\"\"\n",
    "\n",
    "def current_state_14(state_vec,theta):\n",
    "    #per afegir els 22 casos totals es molt facil/ sumar i veure si es positiva o negativa la suma\n",
    "    mu = abs(sum(state_vec))\n",
    "    k = ising_prob(state_vec,theta)\n",
    "    if mu == 8:\n",
    "        return 0\n",
    "    elif mu == 6:\n",
    "        return 1\n",
    "    elif mu == 4:\n",
    "        if k == 4:\n",
    "            return 2\n",
    "        else:\n",
    "            distinc_vec = np.matmul(theta,state_vec)\n",
    "            if -1 in distinc_vec:\n",
    "                if np.count_nonzero(distinc_vec+3) != 6:\n",
    "                    return 3\n",
    "                return 4\n",
    "            else:\n",
    "                return 4\n",
    "    elif mu == 2:\n",
    "        if k == 2:\n",
    "            return 5\n",
    "        elif k == -2:\n",
    "            return 6\n",
    "        else:\n",
    "            return 7\n",
    "    else:\n",
    "        if k == 0:\n",
    "            distinc_vec = np.matmul(theta,state_vec)\n",
    "            if 3 in distinc_vec:\n",
    "                return 8\n",
    "            else:\n",
    "                return 9\n",
    "        elif k == 4:\n",
    "            return 10\n",
    "        elif k == -4:\n",
    "            distinc_vec = np.matmul(theta,state_vec)\n",
    "            if 3 in distinc_vec:\n",
    "                return 11\n",
    "            else:\n",
    "                return 12\n",
    "        else:\n",
    "            return 13"
   ]
  },
  {
   "cell_type": "markdown",
   "metadata": {},
   "source": [
    "# Algorithms"
   ]
  },
  {
   "cell_type": "markdown",
   "metadata": {},
   "source": [
    "### Brute force"
   ]
  },
  {
   "cell_type": "code",
   "execution_count": 10,
   "metadata": {},
   "outputs": [],
   "source": [
    "\"\"\"\n",
    "Computes the exact probability for each of the 256 states\n",
    "\n",
    "Input:\n",
    "- theta {matrix}: matrix that defines the Necker cube\n",
    "- J {double}: coupleing strengs\n",
    "Output:\n",
    "- state {list}: list with the exact probabilities\n",
    "\"\"\"\n",
    "\n",
    "def prob_brute_force(theta,J):\n",
    "    states = np.zeros(14)\n",
    "    for i in range(256):\n",
    "        vec = np.array([int(x) for x in list('{:08b}'.format(i))])\n",
    "        aux_vec = 1 - vec;\n",
    "        vec = vec*-1;\n",
    "        state_vec = vec + aux_vec;\n",
    "        #states[current_state_14(state_vec,theta)]+=1 #guardes quants cops entres a cada estat\n",
    "        k = ising_prob(state_vec,theta)\n",
    "        states[current_state_14(state_vec,theta)]+= np.exp(k*J)\n",
    "        states/=sum(states)\n",
    "    return states"
   ]
  },
  {
   "cell_type": "markdown",
   "metadata": {},
   "source": [
    "### Gibbs sampling algorithms"
   ]
  },
  {
   "cell_type": "code",
   "execution_count": 11,
   "metadata": {},
   "outputs": [],
   "source": [
    "\"\"\"\n",
    "Computes the approximate probability for each of the 22 states using Gibbs sampling\n",
    "\n",
    "Input:\n",
    "- J {double}: coupleing strengs\n",
    "- num_iter {integer}: number of iterations for the algorithm to run\n",
    "Output:\n",
    "- return a list of lenght 22 with the approximate probabilities\n",
    "\"\"\"\n",
    "\n",
    "def Gibbs(J,num_iter):\n",
    "    #empty transition matrix\n",
    "    T = np.zeros(22)\n",
    "    \n",
    "    #initialize random state of the cube\n",
    "    vec = np.random.randint(2, size=8)\n",
    "    aux_vec = 1 - vec\n",
    "    vec = vec*-1\n",
    "    state_vec = vec + aux_vec\n",
    "    \n",
    "    burn_in = 0\n",
    "    for i in range(num_iter):\n",
    "        new_state = np.copy(state_vec)\n",
    "        q = np.random.randint(8) #generate a random number between 0 and 7\n",
    "        new_state[q] = new_state[q]*-1\n",
    "        p = sigmoid(J*(ising_prob(new_state,theta)-ising_prob(state_vec,theta)))\n",
    "        \n",
    "        #burn in\n",
    "        if i < 0.2*num_iter and i < 300:\n",
    "            if np.random.binomial(1, p, size=None):\n",
    "                state_vec = new_state\n",
    "                burn_in += 1\n",
    "            continue\n",
    "            \n",
    "        if np.random.binomial(1, p, size=None):\n",
    "            T[current_state(new_state,theta)] += 1\n",
    "            state_vec = new_state\n",
    "        \n",
    "        else:\n",
    "            T[current_state(state_vec,theta)] += 1\n",
    "    return T/(num_iter-burn_in)"
   ]
  },
  {
   "cell_type": "markdown",
   "metadata": {},
   "source": [
    "### Mean field algorithms"
   ]
  },
  {
   "cell_type": "code",
   "execution_count": 12,
   "metadata": {},
   "outputs": [],
   "source": [
    "\"\"\"\n",
    "Computes the exact approximate probability of having a front perception for the depth of the 8 nodes\n",
    "Input:\n",
    "- J {double}: coupleing strengs\n",
    "- num_iter {integer}: number of iterations for the algorithm to run\n",
    "Output:\n",
    "- return a list of lenght 8 with the approximate depth probabilities\n",
    "\"\"\"\n",
    "\n",
    "def mean_field(J,num_iter):\n",
    "    #initialize random state of the cube\n",
    "    vec = np.random.rand(8)\n",
    "\n",
    "    for i in range(num_iter):\n",
    "        for q in range(8):\n",
    "            neighbours = theta[q].astype(dtype=bool)\n",
    "            vec[q] = sigmoid(2*J*sum(2*vec[neighbours]-1))\n",
    "    return vec"
   ]
  },
  {
   "cell_type": "markdown",
   "metadata": {},
   "source": [
    "# Algorithm analysis"
   ]
  },
  {
   "cell_type": "markdown",
   "metadata": {},
   "source": [
    "### Gibbs lambda analysis "
   ]
  },
  {
   "cell_type": "code",
   "execution_count": 20,
   "metadata": {},
   "outputs": [
    {
     "data": {
      "image/png": "[encoded data removed]",
      "text/plain": [
       "<Figure size 432x288 with 1 Axes>"
      ]
     },
     "metadata": {
      "needs_background": "light"
     },
     "output_type": "display_data"
    }
   ],
   "source": [
    "transition_matrix(1,C)\n",
    "\n",
    "lambdas = []\n",
    "J = [i for i in np.arange(0,1,0.01)]\n",
    "for j in J:\n",
    "    T = transition_matrix(j,C)\n",
    "    eigenValues, eigenVectors = linalg.eig(T)\n",
    "    idx = eigenValues.argsort()[::-1] #l'ultim que se'n va a 0 és el més gordo\n",
    "    eigenValues = eigenValues[idx] \n",
    "    lambdas.append(eigenValues[1])\n",
    "plt.plot(J,lambdas)\n",
    "plt.xlabel('J')\n",
    "plt.ylabel('$\\lambda$')\n",
    "  \n",
    "# giving a title to my graph\n",
    "plt.title('Eigenvalues of the transition matrix')\n",
    "  \n",
    "# function to show the plot\n",
    "plt.show()"
   ]
  },
  {
   "cell_type": "markdown",
   "metadata": {},
   "source": [
    "### Gibbs $\\tau$ analysis"
   ]
  },
  {
   "cell_type": "code",
   "execution_count": 45,
   "metadata": {},
   "outputs": [
    {
     "data": {
      "image/png": "[encoded data removed]",
      "text/plain": [
       "<Figure size 432x288 with 1 Axes>"
      ]
     },
     "metadata": {
      "needs_background": "light"
     },
     "output_type": "display_data"
    }
   ],
   "source": [
    "transition_matrix(1,C)\n",
    "\n",
    "lambdas = []\n",
    "J = [i for i in np.arange(0,1,0.01)]\n",
    "for j in J:\n",
    "    T = transition_matrix(j,C)\n",
    "    eigenValues, eigenVectors = linalg.eig(T)\n",
    "    idx = eigenValues.argsort()[::-1] #l'ultim que se'n va a 0 és el més gordo\n",
    "    eigenValues = eigenValues[idx] \n",
    "    lambdas.append(eigenValues[1])\n",
    "plt.plot(J,-1/np.log(lambdas))\n",
    "plt.xlabel('J')\n",
    "plt.ylabel('$\\lambda$')\n",
    "  \n",
    "# giving a title to my graph\n",
    "plt.title('Eigenvalues of the transition matrix')\n",
    "  \n",
    "# function to show the plot\n",
    "plt.show()"
   ]
  },
  {
   "cell_type": "markdown",
   "metadata": {},
   "source": [
    "### Mean filed solutions"
   ]
  },
  {
   "cell_type": "code",
   "execution_count": 21,
   "metadata": {},
   "outputs": [
    {
     "data": {
      "image/png": "[encoded data removed]",
      "text/plain": [
       "<Figure size 432x288 with 1 Axes>"
      ]
     },
     "metadata": {
      "needs_background": "light"
     },
     "output_type": "display_data"
    }
   ],
   "source": [
    "from scipy.optimize import fsolve\n",
    "import numpy as np\n",
    "l = []\n",
    "for j in np.arange(0,1,0.01):\n",
    "    q = lambda q: sigmoid(6*j*(2*q-1)) - q\n",
    "    l.append(fsolve(q,1))\n",
    "    \n",
    "plt.plot(np.arange(0,1,0.01),l)\n",
    "plt.plot(np.arange(0.33,1,0.01),1-np.array(l[33:]))\n",
    "plt.xlabel('J')\n",
    "plt.ylabel('q')\n",
    "  \n",
    "# giving a title to my graph\n",
    "plt.title('Solutions of the dynamical system')\n",
    "  \n",
    "# function to show the plot\n",
    "plt.show()"
   ]
  },
  {
   "cell_type": "markdown",
   "metadata": {},
   "source": [
    "# Results"
   ]
  },
  {
   "cell_type": "markdown",
   "metadata": {},
   "source": [
    "### Gibbs simulation code"
   ]
  },
  {
   "cell_type": "code",
   "execution_count": 39,
   "metadata": {},
   "outputs": [],
   "source": [
    "# 100000 iterations"
   ]
  },
  {
   "cell_type": "code",
   "execution_count": 32,
   "metadata": {},
   "outputs": [],
   "source": [
    "L_100 = []\n",
    "for j in np.arange(0,1,0.1):\n",
    "    L_100.append(Gibbs(j,100000))"
   ]
  },
  {
   "cell_type": "code",
   "execution_count": 36,
   "metadata": {},
   "outputs": [
    {
     "data": {
      "image/png": "[encoded data removed]",
      "text/plain": [
       "<Figure size 432x288 with 1 Axes>"
      ]
     },
     "metadata": {
      "needs_background": "light"
     },
     "output_type": "display_data"
    }
   ],
   "source": [
    "states = np.arange(22)\n",
    "plt.scatter(states,L_100[9])\n",
    "plt.xlabel('Nodes')\n",
    "plt.ylabel('Probability')\n",
    "  \n",
    "# function to show the plot\n",
    "plt.show()"
   ]
  },
  {
   "cell_type": "code",
   "execution_count": 40,
   "metadata": {},
   "outputs": [],
   "source": [
    "# 5000 iterations"
   ]
  },
  {
   "cell_type": "code",
   "execution_count": 37,
   "metadata": {},
   "outputs": [],
   "source": [
    "L = []\n",
    "for j in np.arange(0,1,0.1):\n",
    "    L.append(Gibbs(j,5000))"
   ]
  },
  {
   "cell_type": "code",
   "execution_count": 38,
   "metadata": {},
   "outputs": [
    {
     "data": {
      "image/png": "[encoded data removed]",
      "text/plain": [
       "<Figure size 432x288 with 1 Axes>"
      ]
     },
     "metadata": {
      "needs_background": "light"
     },
     "output_type": "display_data"
    }
   ],
   "source": [
    "states = np.arange(22)\n",
    "plt.scatter(states,L[9])\n",
    "plt.xlabel('Nodes')\n",
    "plt.ylabel('Probability')\n",
    "  \n",
    "# function to show the plot\n",
    "plt.show()"
   ]
  },
  {
   "cell_type": "markdown",
   "metadata": {},
   "source": [
    "### Mean field tables"
   ]
  },
  {
   "cell_type": "code",
   "execution_count": 31,
   "metadata": {},
   "outputs": [],
   "source": [
    "l = []\n",
    "for j in np.arange(0,1,0.1):\n",
    "    l.append(mean_field(j,300))\n",
    "t = []\n",
    "for j in np.arange(0,1,0.1):\n",
    "    t.append(mean_field(j,5000))"
   ]
  },
  {
   "cell_type": "code",
   "execution_count": 41,
   "metadata": {},
   "outputs": [
    {
     "data": {
      "text/plain": [
       "[array([0.5, 0.5, 0.5, 0.5, 0.5, 0.5, 0.5, 0.5]),\n",
       " array([0.5, 0.5, 0.5, 0.5, 0.5, 0.5, 0.5, 0.5]),\n",
       " array([0.5, 0.5, 0.5, 0.5, 0.5, 0.5, 0.5, 0.5]),\n",
       " array([0.5, 0.5, 0.5, 0.5, 0.5, 0.5, 0.5, 0.5]),\n",
       " array([0.17071517, 0.17071517, 0.17071517, 0.17071517, 0.17071517,\n",
       "        0.17071517, 0.17071517, 0.17071517]),\n",
       " array([0.07072018, 0.07072018, 0.07072018, 0.07072018, 0.07072018,\n",
       "        0.07072018, 0.07072018, 0.07072018]),\n",
       " array([0.96635879, 0.96635879, 0.96635879, 0.96635879, 0.96635879,\n",
       "        0.96635879, 0.96635879, 0.96635879]),\n",
       " array([0.98299619, 0.98299619, 0.98299619, 0.98299619, 0.98299619,\n",
       "        0.98299619, 0.98299619, 0.98299619]),\n",
       " array([0.99111729, 0.99111729, 0.99111729, 0.99111729, 0.99111729,\n",
       "        0.99111729, 0.99111729, 0.99111729]),\n",
       " array([0.00473086, 0.00473086, 0.00473086, 0.00473086, 0.00473086,\n",
       "        0.00473086, 0.00473086, 0.00473086])]"
      ]
     },
     "execution_count": 41,
     "metadata": {},
     "output_type": "execute_result"
    }
   ],
   "source": [
    "t"
   ]
  }
 ],
 "metadata": {
  "kernelspec": {
   "display_name": "Python 3",
   "language": "python",
   "name": "python3"
  },
  "language_info": {
   "codemirror_mode": {
    "name": "ipython",
    "version": 3
   },
   "file_extension": ".py",
   "mimetype": "text/x-python",
   "name": "python",
   "nbconvert_exporter": "python",
   "pygments_lexer": "ipython3",
   "version": "3.7.4"
  }
 },
 "nbformat": 4,
 "nbformat_minor": 2
}
